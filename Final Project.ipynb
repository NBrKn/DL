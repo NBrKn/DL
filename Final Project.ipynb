{
 "cells": [
  {
   "cell_type": "code",
   "execution_count": 1,
   "metadata": {},
   "outputs": [],
   "source": [
    "import matplotlib.pyplot as plt\n",
    "import pandas as pd\n",
    "import numpy as np\n",
    "import time\n",
    "import sys"
   ]
  },
  {
   "cell_type": "code",
   "execution_count": 2,
   "metadata": {},
   "outputs": [],
   "source": [
    "import os"
   ]
  },
  {
   "cell_type": "code",
   "execution_count": 3,
   "metadata": {},
   "outputs": [],
   "source": [
    "def convert(imgf, labelf, outf, n):\n",
    "    f = open(imgf, \"rb\")\n",
    "    o = open(outf, \"w\")\n",
    "    l = open(labelf, \"rb\")\n",
    "\n",
    "    f.read(16)\n",
    "    l.read(8)\n",
    "    images = []\n",
    "\n",
    "    for i in range(n):\n",
    "        image = [ord(l.read(1))]\n",
    "        for j in range(28*28):\n",
    "            image.append(ord(f.read(1)))\n",
    "        images.append(image)\n",
    "\n",
    "    for image in images:\n",
    "        o.write(\",\".join(str(pix) for pix in image)+\"\\n\")\n",
    "    f.close()\n",
    "    o.close()\n",
    "    l.close()"
   ]
  },
  {
   "cell_type": "code",
   "execution_count": 11,
   "metadata": {},
   "outputs": [],
   "source": [
    "convert(\"./data/train-images.idx3-ubyte\", \"./data/train-labels.idx1-ubyte\",\n",
    "        \"data/mnist_train.csv\", 60000)"
   ]
  },
  {
   "cell_type": "code",
   "execution_count": 27,
   "metadata": {},
   "outputs": [],
   "source": [
    "df = pd.read_csv(\"./data/mnist_train.csv\", header=None)"
   ]
  },
  {
   "cell_type": "code",
   "execution_count": 28,
   "metadata": {},
   "outputs": [
    {
     "data": {
      "text/plain": [
       "(60000, 785)"
      ]
     },
     "execution_count": 28,
     "metadata": {},
     "output_type": "execute_result"
    }
   ],
   "source": [
    "df.shape"
   ]
  },
  {
   "cell_type": "code",
   "execution_count": 29,
   "metadata": {},
   "outputs": [],
   "source": [
    "training = df.as_matrix()"
   ]
  },
  {
   "cell_type": "code",
   "execution_count": 30,
   "metadata": {},
   "outputs": [],
   "source": [
    "Y_train = training[:, 0].astype('int')"
   ]
  },
  {
   "cell_type": "code",
   "execution_count": 31,
   "metadata": {},
   "outputs": [],
   "source": [
    "X_train = training[:, 1:].astype('float64')"
   ]
  },
  {
   "cell_type": "code",
   "execution_count": 32,
   "metadata": {},
   "outputs": [
    {
     "data": {
      "text/plain": [
       "(60000, 784)"
      ]
     },
     "execution_count": 32,
     "metadata": {},
     "output_type": "execute_result"
    }
   ],
   "source": [
    "X_train.shape"
   ]
  },
  {
   "cell_type": "code",
   "execution_count": 34,
   "metadata": {},
   "outputs": [],
   "source": [
    "convert(\"./data/t10k-images.idx3-ubyte\", \"./data/t10k-labels.idx1-ubyte\",\n",
    "        \"./data/mnist_test.csv\", 10000)"
   ]
  },
  {
   "cell_type": "code",
   "execution_count": 35,
   "metadata": {},
   "outputs": [],
   "source": [
    "df = pd.read_csv(\"./data/mnist_test.csv\", header=None)"
   ]
  },
  {
   "cell_type": "code",
   "execution_count": 36,
   "metadata": {},
   "outputs": [],
   "source": [
    "test = df.as_matrix()"
   ]
  },
  {
   "cell_type": "code",
   "execution_count": 37,
   "metadata": {},
   "outputs": [
    {
     "data": {
      "text/plain": [
       "(10000, 785)"
      ]
     },
     "execution_count": 37,
     "metadata": {},
     "output_type": "execute_result"
    }
   ],
   "source": [
    "test.shape"
   ]
  },
  {
   "cell_type": "code",
   "execution_count": 38,
   "metadata": {},
   "outputs": [],
   "source": [
    "Y_test = test[:, 0].astype('int')"
   ]
  },
  {
   "cell_type": "code",
   "execution_count": 39,
   "metadata": {},
   "outputs": [],
   "source": [
    "X_test = test[:, 1:].astype('float64')"
   ]
  },
  {
   "cell_type": "code",
   "execution_count": 40,
   "metadata": {},
   "outputs": [
    {
     "data": {
      "text/plain": [
       "0.0"
      ]
     },
     "execution_count": 40,
     "metadata": {},
     "output_type": "execute_result"
    }
   ],
   "source": [
    "np.min(X_test)"
   ]
  },
  {
   "cell_type": "code",
   "execution_count": 41,
   "metadata": {},
   "outputs": [
    {
     "data": {
      "text/plain": [
       "255.0"
      ]
     },
     "execution_count": 41,
     "metadata": {},
     "output_type": "execute_result"
    }
   ],
   "source": [
    "np.max(X_test)"
   ]
  },
  {
   "cell_type": "code",
   "execution_count": 42,
   "metadata": {},
   "outputs": [],
   "source": [
    "X_test/=255"
   ]
  },
  {
   "cell_type": "code",
   "execution_count": 43,
   "metadata": {},
   "outputs": [],
   "source": [
    "X_train/=255"
   ]
  },
  {
   "cell_type": "code",
   "execution_count": 44,
   "metadata": {},
   "outputs": [
    {
     "data": {
      "text/plain": [
       "1.0"
      ]
     },
     "execution_count": 44,
     "metadata": {},
     "output_type": "execute_result"
    }
   ],
   "source": [
    "np.max(X_test)"
   ]
  },
  {
   "cell_type": "code",
   "execution_count": 45,
   "metadata": {},
   "outputs": [],
   "source": [
    "Y_train = pd.get_dummies(Y_train).as_matrix()"
   ]
  },
  {
   "cell_type": "code",
   "execution_count": 46,
   "metadata": {},
   "outputs": [],
   "source": [
    "Y_test = pd.get_dummies(Y_test).as_matrix()"
   ]
  },
  {
   "cell_type": "code",
   "execution_count": 53,
   "metadata": {},
   "outputs": [],
   "source": [
    "def ReLu(x, derivative=False):\n",
    "    if(derivative==False):\n",
    "        return x*(x > 0)\n",
    "    else:\n",
    "        return 1*(x > 0)"
   ]
  },
  {
   "cell_type": "code",
   "execution_count": 54,
   "metadata": {},
   "outputs": [],
   "source": [
    "def Softmax(x):\n",
    "    x -= np.max(x)\n",
    "    sm = (np.exp(x).T / np.sum(np.exp(x),axis=1)).T\n",
    "    return sm"
   ]
  },
  {
   "cell_type": "code",
   "execution_count": 56,
   "metadata": {},
   "outputs": [],
   "source": [
    "def CreateWeights():\n",
    "    ##Initialization of the Weights and the Biases with the random gaussian function with mean zeron, and variance between 1/sqtr(num_inputs_layer)\n",
    "    \n",
    "    ninputs = 784\n",
    "    wl1 = 500 ##Number of neurons in the first layer\n",
    "    wl2 = 300 ##Number of neurons in the second layer\n",
    "    nclass = 10 ##Numer of the class, in this case it is the number of the digits.\n",
    "    \n",
    "    #layer1\n",
    "    w1 = np.random.normal(0, ninputs**-0.5, [ninputs,wl1])\n",
    "    b1 = np.random.normal(0, ninputs**-0.5, [1,wl1])\n",
    "    \n",
    "    #Layer2\n",
    "    w2 = np.random.normal(0, wl1**-0.5, [wl1,wl2])\n",
    "    b2 = np.random.normal(0, wl1**-0.5, [1,wl2])\n",
    "\n",
    "    #Layer3\n",
    "    w3 = np.random.normal(0, wl2**-0.5, [wl2,nclass])\n",
    "    b3 = np.random.normal(0, wl2**-0.5, [1,nclass])\n",
    "    \n",
    "    return [w1,w2,w3,b1,b2,b3]"
   ]
  },
  {
   "cell_type": "code",
   "execution_count": 57,
   "metadata": {},
   "outputs": [],
   "source": [
    "def Dropout(x, keep_prop):\n",
    "    mask = np.random.binomial([np.ones_like(x)],(1-keep_prop))[0]  / (1-keep_prop)\n",
    "    return x*mask"
   ]
  },
  {
   "cell_type": "code",
   "execution_count": 58,
   "metadata": {},
   "outputs": [],
   "source": [
    "def predict(weights, x, keep_prop=0):\n",
    "    \n",
    "    w1,w2,w3,b1,b2,b3  = weights \n",
    "    \n",
    "    #1-Hidden Layer\n",
    "    first = ReLu(x@w1+b1)\n",
    "    first = Dropout(first, keep_prop)\n",
    "\n",
    "    #2-Hidden Layer\n",
    "    second = ReLu(first@w2+b2)\n",
    "    second = Dropout(second, keep_prop)\n",
    "    \n",
    "    #Output Layer\n",
    "    return [first, second, Softmax(second@w3+b3)]"
   ]
  },
  {
   "cell_type": "code",
   "execution_count": 59,
   "metadata": {},
   "outputs": [],
   "source": [
    "def accuracy(output, y):\n",
    "    hit = 0\n",
    "    output = np.argmax(output, axis=1)\n",
    "    y = np.argmax(y, axis=1)\n",
    "    for y in zip(output, y):\n",
    "        if(y[0]==y[1]):\n",
    "            hit += 1\n",
    "\n",
    "    p = (hit*100)/output.shape[0]\n",
    "    return p"
   ]
  },
  {
   "cell_type": "code",
   "execution_count": 60,
   "metadata": {},
   "outputs": [],
   "source": [
    "def log2(x):\n",
    "    if(x!=0):\n",
    "        return np.log(x)\n",
    "    else:\n",
    "        return -np.inf\n",
    "    \n",
    "def log(y):\n",
    "    return [[log2(nx) for nx in x]for x in y]\n",
    "\n",
    "def cost(Y_predict, Y_right):\n",
    "    \n",
    "    Loss = -np.mean((np.nan_to_num(Y_right*log(Y_predict)) + np.nan_to_num((1-Y_right)*log(1-Y_predict))),keepdims=True)\n",
    "    return Loss"
   ]
  },
  {
   "cell_type": "code",
   "execution_count": 62,
   "metadata": {},
   "outputs": [],
   "source": [
    "x_train = X_train"
   ]
  },
  {
   "cell_type": "code",
   "execution_count": 63,
   "metadata": {},
   "outputs": [],
   "source": [
    "x_valid = X_test"
   ]
  },
  {
   "cell_type": "code",
   "execution_count": 64,
   "metadata": {},
   "outputs": [],
   "source": [
    "d_train = Y_train"
   ]
  },
  {
   "cell_type": "code",
   "execution_count": 65,
   "metadata": {},
   "outputs": [],
   "source": [
    "d_valid = Y_test"
   ]
  },
  {
   "cell_type": "code",
   "execution_count": 66,
   "metadata": {},
   "outputs": [],
   "source": [
    "def ADAM(weights, x, t, outputs, eta, beta1, beta2, eps, i, nabla, cache=None):\n",
    "    \n",
    "    w1,w2,w3,b1,b2,b3  = weights\n",
    "    \n",
    "    \n",
    "    if(cache==None):\n",
    "            vw1 = np.zeros_like(w1)\n",
    "            mw1 = np.zeros_like(w1)\n",
    "            \n",
    "            vw2 = np.zeros_like(w2)\n",
    "            mw2 = np.zeros_like(w2)\n",
    "            \n",
    "            vw3 = np.zeros_like(w3)\n",
    "            mw3 = np.zeros_like(w3)\n",
    "            \n",
    "            vb1 = np.zeros_like(b1)\n",
    "            mb1 = np.zeros_like(b1)\n",
    "            \n",
    "            vb2 = np.zeros_like(b2)\n",
    "            mb2 = np.zeros_like(b2)\n",
    "            \n",
    "            vb3 = np.zeros_like(b3)\n",
    "            mb3 = np.zeros_like(b3)\n",
    "    else:\n",
    "        vw1,mw1,vw2,mw2,vw3,mw3,vb1,mb1,vb2,mb2,vb3,mb3 = cache\n",
    "    \n",
    "    first, second, y = outputs\n",
    "   \n",
    "    w3_delta = (t-y)/x.shape[0]\n",
    "    \n",
    "    w2_error = w3_delta@w3.T\n",
    "\n",
    "    w2_delta = w2_error * ReLu(second,derivative=True)\n",
    "\n",
    "    w1_error = w2_delta@w2.T\n",
    "    w1_delta = w1_error * ReLu(first,derivative=True)\n",
    "    \n",
    "    \n",
    "    dw3 = (second.T@w3_delta + nabla*w3)\n",
    "    mw3 = beta1*mw3 + (1-beta1)*dw3\n",
    "    mt = (mw3) / (1-beta1**i)\n",
    "    vw3 = beta2*vw3 + (1-beta2)*(dw3**2)\n",
    "    vt = (vw3) / (1-beta2**i)\n",
    "    w3 += eta * mt/(np.sqrt(vt) + eps)\n",
    "    \n",
    "    db3 = (w3_delta.sum(axis=0)+ nabla*b3)\n",
    "    mb3 = beta1*mb3 + (1-beta1)*db3\n",
    "    mt = (mb3) / (1-beta1**i)\n",
    "    vb3 = beta2*vb3 + (1-beta2)*(db3**2)\n",
    "    vt = (vb3) / (1-beta2**i)\n",
    "    b3 += eta * mt/(np.sqrt(vt) + eps)\n",
    "    \n",
    "    dw2 = (first.T@w2_delta + nabla*w2)\n",
    "    mw2 = beta1*mw2 + (1-beta1)*dw2\n",
    "    mt = (mw2) / (1-beta1**i)\n",
    "    vw2 = beta2*vw2 + (1-beta2)*(dw2**2)\n",
    "    vt = (vw2) / (1-beta2**i)\n",
    "    w2 += eta * mt/(np.sqrt(vt) + eps)\n",
    "    \n",
    "    db2 = (w2_delta.sum(axis=0) + nabla*b2)\n",
    "    mb2 = beta1*mb2 + (1-beta1)*db2\n",
    "    mt = (mb2) / (1-beta1**i)\n",
    "    vb2 = beta2*vb2 + (1-beta2)*(db2**2)\n",
    "    vt = (vb2) / (1-beta2**i)\n",
    "    b2 += eta * mt/(np.sqrt(vt) + eps)\n",
    "    \n",
    "    dw1 = (x.T@w1_delta + nabla*w1)\n",
    "    mw1 = beta1*mw1 + (1-beta1)*dw1\n",
    "    mt = (mw1) / (1-beta1**i)\n",
    "    vw1 = beta2*vw1 + (1-beta2)*(dw1**2)\n",
    "    vt = (vw1) / (1-beta2**i)\n",
    "    w1 += eta * mt/(np.sqrt(vt) + eps)\n",
    "    \n",
    "    db1 = (w1_delta.sum(axis=0) + nabla*b1)\n",
    "    mb1 = beta1*mb1 + (1-beta1)*db1\n",
    "    mt = (mb1) / (1-beta1**i)\n",
    "    vb1 = beta2*vb1 + (1-beta2)*(db1**2)\n",
    "    vt = (vb1) / (1-beta2**i)\n",
    "    b1 += eta * mt/(np.sqrt(vt) + eps)\n",
    "    \n",
    "    \n",
    "    weights = [w1,w2,w3,b1,b2,b3]\n",
    "    cache = [vw1,mw1,vw2,mw2,vw3,mw3,vb1,mb1,vb2,mb2,vb3,mb3]\n",
    "    \n",
    "    return weights, cache"
   ]
  },
  {
   "cell_type": "code",
   "execution_count": 67,
   "metadata": {},
   "outputs": [],
   "source": [
    "from scipy.ndimage.interpolation import map_coordinates\n",
    "from scipy.ndimage.filters import gaussian_filter\n",
    "\n",
    "def elastic_transform(image, alpha, sigma, random_state=None):\n",
    "    \"\"\"Elastic deformation of images as described in [Simard2003]_.\n",
    "    .. [Simard2003] Simard, Steinkraus and Platt, \"Best Practices for\n",
    "       Convolutional Neural Networks applied to Visual Document Analysis\", in\n",
    "       Proc. of the International Conference on Document Analysis and\n",
    "       Recognition, 2003.\n",
    "    \"\"\"\n",
    "    if random_state is None:\n",
    "        random_state = np.random.RandomState(None)\n",
    "\n",
    "    shape = image.shape\n",
    "    dx = gaussian_filter((random_state.rand(*shape) * 2 - 1), sigma, mode=\"constant\", cval=0) * alpha\n",
    "    dy = gaussian_filter((random_state.rand(*shape) * 2 - 1), sigma, mode=\"constant\", cval=0) * alpha\n",
    "\n",
    "    x, y = np.meshgrid(np.arange(shape[0]), np.arange(shape[1]))\n",
    "    indices = np.reshape(y+dy, (-1, 1)), np.reshape(x+dx, (-1, 1))\n",
    "\n",
    "    return map_coordinates(image, indices, order=1).reshape(shape)"
   ]
  },
  {
   "cell_type": "code",
   "execution_count": 75,
   "metadata": {},
   "outputs": [],
   "source": [
    "def run(weights, x_train, y_train, x_valid, y_valid, epochs = 10, nbatchs=25, alpha = 1e-3, decay = 0, beta1=0.9, beta2=0.999, eps=1e-8, l2 = 0.001, keep_prop = 0):\n",
    "    \n",
    "    pross = x_train.shape[0]*0.05\n",
    "    \n",
    "    history = [[],[]]\n",
    "    \n",
    "    index = np.arange(x_train.shape[0])\n",
    "    cache = None\n",
    "    print(\"Train data: %d\" % (x_train.shape[0]))\n",
    "    print(\"Validation data: %d \\n\" % (x_valid.shape[0]))\n",
    "    mtime = 0\n",
    "    inter_adam = 1\n",
    "    \n",
    "    for j in range(epochs):\n",
    "        np.random.shuffle(index)\n",
    "        t = 0\n",
    "        iterations = round(x_train.shape[0]/nbatchs)\n",
    "        prog = \"\"\n",
    "        sacurr = 0\n",
    "        sloss = 0\n",
    "        sys.stdout.write(\"\\nEpochs: %2d \\ %2d \\n\"% (j+1,epochs))\n",
    "        stime = 0\n",
    "        timeIT = time.time()\n",
    "        for i in range(iterations):\n",
    "            timeI = time.time()\n",
    "            f = i*nbatchs\n",
    "            l = f+nbatchs\n",
    "            \n",
    "            if(l>(x_train.shape[0]-1)):\n",
    "                l = x_train.shape[0]\n",
    "                \n",
    "            x = np.array([elastic_transform(xx.reshape(28,28),15,3).reshape(784) for xx in x_train[index[f:l]]])\n",
    "            y = y_train[index[f:l]]\n",
    "\n",
    "            outputs = predict(weights, x, keep_prop)\n",
    "            \n",
    "            loss = cost(outputs[-1], y)+ l2 * (np.mean(weights[0],keepdims=True)**2+np.mean(weights[1],keepdims=True)**2+np.mean(weights[2],keepdims=True)**2)/3\n",
    "            \n",
    "            \n",
    "            accuracy_t = accuracy(outputs[-1], y)\n",
    "            \n",
    "            sacurr += accuracy_t\n",
    "            sloss += loss\n",
    "            \n",
    "            accuracy_train = sacurr/(i+1)\n",
    "            loss_train = sloss/(i+1)\n",
    "            \n",
    "            weights, cache = ADAM(weights, x, y, outputs, alpha, beta1, beta2, eps, inter_adam, l2, cache)\n",
    "            \n",
    "            t+= x.shape[0]\n",
    "            \n",
    "            qtd = round(t/pross)\n",
    "            prog = \"[\"\n",
    "            for p in range(20):\n",
    "                if(p<qtd-1):\n",
    "                    prog += \"=\"\n",
    "                elif(p==qtd-1):\n",
    "                    prog += \">\"\n",
    "                else:\n",
    "                    prog += \".\"\n",
    "            prog += \"]\"\n",
    "\n",
    "            \n",
    "            stime += time.time()-timeI\n",
    "            mtime = stime/(i+1)\n",
    "            mTimeT = mtime * (iterations-i-1)\n",
    "            \n",
    "            sys.stdout.write(\"\\r%5d/%5d %s ETA: %3d s - loss: %.4f  acc: %.4f\" % (t, x_train.shape[0], prog, mTimeT, loss_train, accuracy_train))\n",
    "            \n",
    "            history[0].append([loss_train, accuracy_train])\n",
    "            inter_adam += 1\n",
    "        mtime = time.time()-timeIT\n",
    "        alpha = alpha - (alpha*decay)\n",
    "        \n",
    "        outputs = predict(weights, x_valid)\n",
    "        \n",
    "        loss_valid = cost(outputs[-1], y_valid)+ l2 * (np.mean(weights[0],keepdims=True)**2+np.mean(weights[1],keepdims=True)**2+np.mean(weights[2],keepdims=True)**2)/3\n",
    "        accuracy_valid = accuracy(outputs[-1], y_valid)\n",
    "        \n",
    "        sys.stdout.write(\"\\r%5d/%5d %s ETA: %3d s loss: %.4f  acc: %.4f - lossValid: %.4f  accValid: %.4f \" % ( t, x_train.shape[0], prog, mtime, loss_train, accuracy_train, loss_valid, accuracy_valid))\n",
    "        history[1].append([loss_valid, accuracy_valid])\n",
    "        \n",
    "    return weights, history"
   ]
  },
  {
   "cell_type": "code",
   "execution_count": 79,
   "metadata": {},
   "outputs": [
    {
     "name": "stdout",
     "output_type": "stream",
     "text": [
      "Train data: 60000\n",
      "Validation data: 10000 \n",
      "\n",
      "\n",
      "Epochs:  1 \\ 30 \n",
      "60000/60000 [===================>] ETA:  55 s loss: 0.0731  acc: 86.4233 - lossValid: 0.0217  accValid: 96.0500 \n",
      "Epochs:  2 \\ 30 \n",
      "60000/60000 [===================>] ETA:  56 s loss: 0.0404  acc: 92.7617 - lossValid: 0.0141  accValid: 97.5400 \n",
      "Epochs:  3 \\ 30 \n",
      "60000/60000 [===================>] ETA:  59 s loss: 0.0336  acc: 94.0117 - lossValid: 0.0106  accValid: 98.1000 \n",
      "Epochs:  4 \\ 30 \n",
      "33500/60000 [==========>.........] ETA:  24 s - loss: 0.0306  acc: 94.6925"
     ]
    },
    {
     "ename": "KeyboardInterrupt",
     "evalue": "",
     "output_type": "error",
     "traceback": [
      "\u001b[0;31m---------------------------------------------------------------------------\u001b[0m",
      "\u001b[0;31mKeyboardInterrupt\u001b[0m                         Traceback (most recent call last)",
      "\u001b[0;32m<ipython-input-79-3414b6a59883>\u001b[0m in \u001b[0;36m<module>\u001b[0;34m()\u001b[0m\n\u001b[1;32m     15\u001b[0m               \u001b[0meps\u001b[0m\u001b[0;34m=\u001b[0m\u001b[0;36m1e-8\u001b[0m\u001b[0;34m,\u001b[0m\u001b[0;34m\u001b[0m\u001b[0m\n\u001b[1;32m     16\u001b[0m               \u001b[0ml2\u001b[0m \u001b[0;34m=\u001b[0m \u001b[0;36m1e-7\u001b[0m\u001b[0;34m,\u001b[0m\u001b[0;34m\u001b[0m\u001b[0m\n\u001b[0;32m---> 17\u001b[0;31m               keep_prop = 0.25)\n\u001b[0m",
      "\u001b[0;32m<ipython-input-75-f15a00b08a45>\u001b[0m in \u001b[0;36mrun\u001b[0;34m(weights, x_train, y_train, x_valid, y_valid, epochs, nbatchs, alpha, decay, beta1, beta2, eps, l2, keep_prop)\u001b[0m\n\u001b[1;32m     33\u001b[0m             \u001b[0my\u001b[0m \u001b[0;34m=\u001b[0m \u001b[0my_train\u001b[0m\u001b[0;34m[\u001b[0m\u001b[0mindex\u001b[0m\u001b[0;34m[\u001b[0m\u001b[0mf\u001b[0m\u001b[0;34m:\u001b[0m\u001b[0ml\u001b[0m\u001b[0;34m]\u001b[0m\u001b[0;34m]\u001b[0m\u001b[0;34m\u001b[0m\u001b[0m\n\u001b[1;32m     34\u001b[0m \u001b[0;34m\u001b[0m\u001b[0m\n\u001b[0;32m---> 35\u001b[0;31m             \u001b[0moutputs\u001b[0m \u001b[0;34m=\u001b[0m \u001b[0mpredict\u001b[0m\u001b[0;34m(\u001b[0m\u001b[0mweights\u001b[0m\u001b[0;34m,\u001b[0m \u001b[0mx\u001b[0m\u001b[0;34m,\u001b[0m \u001b[0mkeep_prop\u001b[0m\u001b[0;34m)\u001b[0m\u001b[0;34m\u001b[0m\u001b[0m\n\u001b[0m\u001b[1;32m     36\u001b[0m \u001b[0;34m\u001b[0m\u001b[0m\n\u001b[1;32m     37\u001b[0m             \u001b[0mloss\u001b[0m \u001b[0;34m=\u001b[0m \u001b[0mcost\u001b[0m\u001b[0;34m(\u001b[0m\u001b[0moutputs\u001b[0m\u001b[0;34m[\u001b[0m\u001b[0;34m-\u001b[0m\u001b[0;36m1\u001b[0m\u001b[0;34m]\u001b[0m\u001b[0;34m,\u001b[0m \u001b[0my\u001b[0m\u001b[0;34m)\u001b[0m\u001b[0;34m+\u001b[0m \u001b[0ml2\u001b[0m \u001b[0;34m*\u001b[0m \u001b[0;34m(\u001b[0m\u001b[0mnp\u001b[0m\u001b[0;34m.\u001b[0m\u001b[0mmean\u001b[0m\u001b[0;34m(\u001b[0m\u001b[0mweights\u001b[0m\u001b[0;34m[\u001b[0m\u001b[0;36m0\u001b[0m\u001b[0;34m]\u001b[0m\u001b[0;34m,\u001b[0m\u001b[0mkeepdims\u001b[0m\u001b[0;34m=\u001b[0m\u001b[0;32mTrue\u001b[0m\u001b[0;34m)\u001b[0m\u001b[0;34m**\u001b[0m\u001b[0;36m2\u001b[0m\u001b[0;34m+\u001b[0m\u001b[0mnp\u001b[0m\u001b[0;34m.\u001b[0m\u001b[0mmean\u001b[0m\u001b[0;34m(\u001b[0m\u001b[0mweights\u001b[0m\u001b[0;34m[\u001b[0m\u001b[0;36m1\u001b[0m\u001b[0;34m]\u001b[0m\u001b[0;34m,\u001b[0m\u001b[0mkeepdims\u001b[0m\u001b[0;34m=\u001b[0m\u001b[0;32mTrue\u001b[0m\u001b[0;34m)\u001b[0m\u001b[0;34m**\u001b[0m\u001b[0;36m2\u001b[0m\u001b[0;34m+\u001b[0m\u001b[0mnp\u001b[0m\u001b[0;34m.\u001b[0m\u001b[0mmean\u001b[0m\u001b[0;34m(\u001b[0m\u001b[0mweights\u001b[0m\u001b[0;34m[\u001b[0m\u001b[0;36m2\u001b[0m\u001b[0;34m]\u001b[0m\u001b[0;34m,\u001b[0m\u001b[0mkeepdims\u001b[0m\u001b[0;34m=\u001b[0m\u001b[0;32mTrue\u001b[0m\u001b[0;34m)\u001b[0m\u001b[0;34m**\u001b[0m\u001b[0;36m2\u001b[0m\u001b[0;34m)\u001b[0m\u001b[0;34m/\u001b[0m\u001b[0;36m3\u001b[0m\u001b[0;34m\u001b[0m\u001b[0m\n",
      "\u001b[0;32m<ipython-input-58-14c2fe47c854>\u001b[0m in \u001b[0;36mpredict\u001b[0;34m(weights, x, keep_prop)\u001b[0m\n\u001b[1;32m      4\u001b[0m \u001b[0;34m\u001b[0m\u001b[0m\n\u001b[1;32m      5\u001b[0m     \u001b[0;31m#1-Hidden Layer\u001b[0m\u001b[0;34m\u001b[0m\u001b[0;34m\u001b[0m\u001b[0m\n\u001b[0;32m----> 6\u001b[0;31m     \u001b[0mfirst\u001b[0m \u001b[0;34m=\u001b[0m \u001b[0mReLu\u001b[0m\u001b[0;34m(\u001b[0m\u001b[0mx\u001b[0m\u001b[0;34m@\u001b[0m\u001b[0mw1\u001b[0m\u001b[0;34m+\u001b[0m\u001b[0mb1\u001b[0m\u001b[0;34m)\u001b[0m\u001b[0;34m\u001b[0m\u001b[0m\n\u001b[0m\u001b[1;32m      7\u001b[0m     \u001b[0mfirst\u001b[0m \u001b[0;34m=\u001b[0m \u001b[0mDropout\u001b[0m\u001b[0;34m(\u001b[0m\u001b[0mfirst\u001b[0m\u001b[0;34m,\u001b[0m \u001b[0mkeep_prop\u001b[0m\u001b[0;34m)\u001b[0m\u001b[0;34m\u001b[0m\u001b[0m\n\u001b[1;32m      8\u001b[0m \u001b[0;34m\u001b[0m\u001b[0m\n",
      "\u001b[0;31mKeyboardInterrupt\u001b[0m: "
     ]
    }
   ],
   "source": [
    "weights = CreateWeights()\n",
    "\n",
    "alpha = 1e-3\n",
    "epochs = 30\n",
    "nbatchs = 100\n",
    "weights, history = run(weights, \n",
    "              x_train, d_train, \n",
    "              x_valid, d_valid, \n",
    "              epochs = epochs,\n",
    "              nbatchs=nbatchs, \n",
    "              alpha = alpha, \n",
    "              decay = 0.1, \n",
    "              beta1=0.9, \n",
    "              beta2=0.999,\n",
    "              eps=1e-8,\n",
    "              l2 = 1e-7, \n",
    "              keep_prop = 0.25)"
   ]
  },
  {
   "cell_type": "code",
   "execution_count": 70,
   "metadata": {},
   "outputs": [],
   "source": [
    "def SGD(weights, x, t, outputs, eta, gamma, nabla, cache=None):\n",
    "    \n",
    "    w1,w2,w3,b1,b2,b3  = weights\n",
    "    \n",
    "    \n",
    "    if(cache==None):\n",
    "            vw1 = np.zeros_like(w1)\n",
    "            vw2 = np.zeros_like(w2)\n",
    "            vw3 = np.zeros_like(w3)\n",
    "            vb1 = np.zeros_like(b1)\n",
    "            vb2 = np.zeros_like(b2)\n",
    "            vb3 = np.zeros_like(b3)\n",
    "    else:\n",
    "        vw1,vw2,vw3,vb1,vb2,vb3 = cache\n",
    "    \n",
    "    first, second, y = outputs\n",
    "   \n",
    "    w3_delta = (t-y)\n",
    "    \n",
    "    w2_error = w3_delta@w3.T\n",
    "\n",
    "    w2_delta = w2_error * ReLu(second,derivative=True)\n",
    "\n",
    "    w1_error = w2_delta@w2.T\n",
    "    w1_delta = w1_error * ReLu(first,derivative=True)\n",
    "    \n",
    "    eta = -eta/x.shape[0]\n",
    "    nabla *= 2;\n",
    "    \n",
    "    vw3 = gamma*vw3 + eta * (second.T@w3_delta + nabla*w3)\n",
    "    vb3 = gamma*vb3 + eta * w3_delta.sum(axis=0)\n",
    "\n",
    "    vw2 = gamma*vw2 + eta * (first.T@w2_delta + nabla*w2)\n",
    "    vb2 = gamma*vb2 + eta * w2_delta.sum(axis=0)\n",
    "\n",
    "    vw1 = gamma*vw1 + eta * (x.T@w1_delta + nabla*w1)\n",
    "    vb1 = gamma*vb1 + eta * w1_delta.sum(axis=0)\n",
    "    \n",
    "    \n",
    "    w3 -= vw3\n",
    "    b3 -= vb3\n",
    "\n",
    "    w2 -= vw2\n",
    "    b2 -= vb2\n",
    "\n",
    "    w1 -= vw1\n",
    "    b1 -= vb1\n",
    "    \n",
    "    weights = [w1,w2,w3,b1,b2,b3]\n",
    "    cache = [vw1,vw2,vw3,vb1,vb2,vb3]\n",
    "    \n",
    "    return weights, cache"
   ]
  },
  {
   "cell_type": "code",
   "execution_count": 73,
   "metadata": {},
   "outputs": [],
   "source": [
    "def run_sgd(weights, x_train, y_train, x_valid, y_valid, epochs = 10, nbatchs=25, alpha = 1e-3, decay = 0, momentum = 0, l2 = 0.001, keep_prop = 0):\n",
    "    \n",
    "    pross = x_train.shape[0]*0.05\n",
    "    \n",
    "    history = [[],[]]\n",
    "    \n",
    "    index = np.arange(x_train.shape[0])\n",
    "    cache = None\n",
    "    print(\"Train data: %d\" % (x_train.shape[0]))\n",
    "    print(\"Validation data: %d \\n\" % (x_valid.shape[0]))\n",
    "    mtime = 0\n",
    "    \n",
    "    for j in range(epochs):\n",
    "        np.random.shuffle(index)\n",
    "        t = 0\n",
    "        iterations = round(x_train.shape[0]/nbatchs)\n",
    "        prog = \"\"\n",
    "        sacurr = 0\n",
    "        sloss = 0\n",
    "        sys.stdout.write(\"\\nEpochs: %2d \\ %2d \\n\"% (j+1,epochs))\n",
    "        stime = 0\n",
    "        timeIT = time.time()\n",
    "        for i in range(iterations):\n",
    "            timeI = time.time()\n",
    "            f = i*nbatchs\n",
    "            l = f+nbatchs\n",
    "            \n",
    "            if(l>(x_train.shape[0]-1)):\n",
    "                l = x_train.shape[0]\n",
    "                \n",
    "            x = np.array([elastic_transform(xx.reshape(28,28),15,3).reshape(784) for xx in x_train[index[f:l]]])\n",
    "            y = y_train[index[f:l]]\n",
    "\n",
    "            outputs = predict(weights, x, keep_prop)\n",
    "            \n",
    "            loss = cost(outputs[-1], y)\n",
    "            \n",
    "            \n",
    "            accuracy_t = accuracy(outputs[-1], y)\n",
    "            \n",
    "            sacurr += accuracy_t\n",
    "            sloss += loss\n",
    "            \n",
    "            accuracy_train = sacurr/(i+1)\n",
    "            loss_train = sloss/(i+1)\n",
    "            \n",
    "            weights, cache = SGD(weights, x, y, outputs, alpha, momentum, l2, cache)\n",
    "            \n",
    "            t+= x.shape[0]\n",
    "            \n",
    "            qtd = round(t/pross)\n",
    "            prog = \"[\"\n",
    "            for p in range(20):\n",
    "                if(p<qtd-1):\n",
    "                    prog += \"=\"\n",
    "                elif(p==qtd-1):\n",
    "                    prog += \">\"\n",
    "                else:\n",
    "                    prog += \".\"\n",
    "            prog += \"]\"\n",
    "\n",
    "            \n",
    "            stime += time.time()-timeI\n",
    "            mtime = stime/(i+1)\n",
    "            mTimeT = mtime * (iterations-i-1)\n",
    "            \n",
    "            sys.stdout.write(\"\\r%5d/%5d %s ETA: %3d s - loss: %.4f  acc: %.4f\" % (t, x_train.shape[0], prog, mTimeT, loss_train, accuracy_train))\n",
    "            \n",
    "            history[0].append([loss_train, accuracy_train])\n",
    "        mtime = time.time()-timeIT\n",
    "        alpha = alpha - (alpha*decay)\n",
    "        \n",
    "        outputs = predict(weights, x_valid)\n",
    "        \n",
    "        loss_valid = cost(outputs[-1], y_valid)\n",
    "        accuracy_valid = accuracy(outputs[-1], y_valid)\n",
    "        \n",
    "        sys.stdout.write(\"\\r%5d/%5d %s ETA: %3d s loss: %.4f  acc: %.4f - lossValid: %.4f  accValid: %.4f \" % ( t, x_train.shape[0], prog, mtime, loss_train, accuracy_train, loss_valid, accuracy_valid))\n",
    "        history[1].append([loss_valid, accuracy_valid])\n",
    "        \n",
    "    return weights, history"
   ]
  },
  {
   "cell_type": "code",
   "execution_count": 77,
   "metadata": {},
   "outputs": [
    {
     "name": "stdout",
     "output_type": "stream",
     "text": [
      "Train data: 60000\n",
      "Validation data: 10000 \n",
      "\n",
      "\n",
      "Epochs:  1 \\ 30 \n",
      "60000/60000 [===================>] ETA:  46 s loss: 0.0799  acc: 84.6100 - lossValid: 0.0201  accValid: 96.3700 \n",
      "Epochs:  2 \\ 30 \n",
      "60000/60000 [===================>] ETA:  55 s loss: 0.0465  acc: 91.6050 - lossValid: 0.0154  accValid: 97.1300 \n",
      "Epochs:  3 \\ 30 \n",
      "60000/60000 [===================>] ETA:  49 s loss: 0.0399  acc: 92.8833 - lossValid: 0.0127  accValid: 97.7900 \n",
      "Epochs:  4 \\ 30 \n",
      "56600/60000 [==================>.] ETA:   2 s - loss: 0.0357  acc: 93.7438"
     ]
    },
    {
     "ename": "KeyboardInterrupt",
     "evalue": "",
     "output_type": "error",
     "traceback": [
      "\u001b[0;31m---------------------------------------------------------------------------\u001b[0m",
      "\u001b[0;31mKeyboardInterrupt\u001b[0m                         Traceback (most recent call last)",
      "\u001b[0;32m<ipython-input-77-28fe309872e6>\u001b[0m in \u001b[0;36m<module>\u001b[0;34m()\u001b[0m\n\u001b[1;32m     13\u001b[0m               \u001b[0mmomentum\u001b[0m \u001b[0;34m=\u001b[0m \u001b[0;36m0.9\u001b[0m\u001b[0;34m,\u001b[0m\u001b[0;34m\u001b[0m\u001b[0m\n\u001b[1;32m     14\u001b[0m               \u001b[0ml2\u001b[0m \u001b[0;34m=\u001b[0m \u001b[0;36m1e-3\u001b[0m\u001b[0;34m,\u001b[0m\u001b[0;34m\u001b[0m\u001b[0m\n\u001b[0;32m---> 15\u001b[0;31m               keep_prop = 0.25)\n\u001b[0m",
      "\u001b[0;32m<ipython-input-73-7548a11bf641>\u001b[0m in \u001b[0;36mrun_sgd\u001b[0;34m(weights, x_train, y_train, x_valid, y_valid, epochs, nbatchs, alpha, decay, momentum, l2, keep_prop)\u001b[0m\n\u001b[1;32m     29\u001b[0m                 \u001b[0ml\u001b[0m \u001b[0;34m=\u001b[0m \u001b[0mx_train\u001b[0m\u001b[0;34m.\u001b[0m\u001b[0mshape\u001b[0m\u001b[0;34m[\u001b[0m\u001b[0;36m0\u001b[0m\u001b[0;34m]\u001b[0m\u001b[0;34m\u001b[0m\u001b[0m\n\u001b[1;32m     30\u001b[0m \u001b[0;34m\u001b[0m\u001b[0m\n\u001b[0;32m---> 31\u001b[0;31m             \u001b[0mx\u001b[0m \u001b[0;34m=\u001b[0m \u001b[0mnp\u001b[0m\u001b[0;34m.\u001b[0m\u001b[0marray\u001b[0m\u001b[0;34m(\u001b[0m\u001b[0;34m[\u001b[0m\u001b[0melastic_transform\u001b[0m\u001b[0;34m(\u001b[0m\u001b[0mxx\u001b[0m\u001b[0;34m.\u001b[0m\u001b[0mreshape\u001b[0m\u001b[0;34m(\u001b[0m\u001b[0;36m28\u001b[0m\u001b[0;34m,\u001b[0m\u001b[0;36m28\u001b[0m\u001b[0;34m)\u001b[0m\u001b[0;34m,\u001b[0m\u001b[0;36m15\u001b[0m\u001b[0;34m,\u001b[0m\u001b[0;36m3\u001b[0m\u001b[0;34m)\u001b[0m\u001b[0;34m.\u001b[0m\u001b[0mreshape\u001b[0m\u001b[0;34m(\u001b[0m\u001b[0;36m784\u001b[0m\u001b[0;34m)\u001b[0m \u001b[0;32mfor\u001b[0m \u001b[0mxx\u001b[0m \u001b[0;32min\u001b[0m \u001b[0mx_train\u001b[0m\u001b[0;34m[\u001b[0m\u001b[0mindex\u001b[0m\u001b[0;34m[\u001b[0m\u001b[0mf\u001b[0m\u001b[0;34m:\u001b[0m\u001b[0ml\u001b[0m\u001b[0;34m]\u001b[0m\u001b[0;34m]\u001b[0m\u001b[0;34m]\u001b[0m\u001b[0;34m)\u001b[0m\u001b[0;34m\u001b[0m\u001b[0m\n\u001b[0m\u001b[1;32m     32\u001b[0m             \u001b[0my\u001b[0m \u001b[0;34m=\u001b[0m \u001b[0my_train\u001b[0m\u001b[0;34m[\u001b[0m\u001b[0mindex\u001b[0m\u001b[0;34m[\u001b[0m\u001b[0mf\u001b[0m\u001b[0;34m:\u001b[0m\u001b[0ml\u001b[0m\u001b[0;34m]\u001b[0m\u001b[0;34m]\u001b[0m\u001b[0;34m\u001b[0m\u001b[0m\n\u001b[1;32m     33\u001b[0m \u001b[0;34m\u001b[0m\u001b[0m\n",
      "\u001b[0;32m<ipython-input-73-7548a11bf641>\u001b[0m in \u001b[0;36m<listcomp>\u001b[0;34m(.0)\u001b[0m\n\u001b[1;32m     29\u001b[0m                 \u001b[0ml\u001b[0m \u001b[0;34m=\u001b[0m \u001b[0mx_train\u001b[0m\u001b[0;34m.\u001b[0m\u001b[0mshape\u001b[0m\u001b[0;34m[\u001b[0m\u001b[0;36m0\u001b[0m\u001b[0;34m]\u001b[0m\u001b[0;34m\u001b[0m\u001b[0m\n\u001b[1;32m     30\u001b[0m \u001b[0;34m\u001b[0m\u001b[0m\n\u001b[0;32m---> 31\u001b[0;31m             \u001b[0mx\u001b[0m \u001b[0;34m=\u001b[0m \u001b[0mnp\u001b[0m\u001b[0;34m.\u001b[0m\u001b[0marray\u001b[0m\u001b[0;34m(\u001b[0m\u001b[0;34m[\u001b[0m\u001b[0melastic_transform\u001b[0m\u001b[0;34m(\u001b[0m\u001b[0mxx\u001b[0m\u001b[0;34m.\u001b[0m\u001b[0mreshape\u001b[0m\u001b[0;34m(\u001b[0m\u001b[0;36m28\u001b[0m\u001b[0;34m,\u001b[0m\u001b[0;36m28\u001b[0m\u001b[0;34m)\u001b[0m\u001b[0;34m,\u001b[0m\u001b[0;36m15\u001b[0m\u001b[0;34m,\u001b[0m\u001b[0;36m3\u001b[0m\u001b[0;34m)\u001b[0m\u001b[0;34m.\u001b[0m\u001b[0mreshape\u001b[0m\u001b[0;34m(\u001b[0m\u001b[0;36m784\u001b[0m\u001b[0;34m)\u001b[0m \u001b[0;32mfor\u001b[0m \u001b[0mxx\u001b[0m \u001b[0;32min\u001b[0m \u001b[0mx_train\u001b[0m\u001b[0;34m[\u001b[0m\u001b[0mindex\u001b[0m\u001b[0;34m[\u001b[0m\u001b[0mf\u001b[0m\u001b[0;34m:\u001b[0m\u001b[0ml\u001b[0m\u001b[0;34m]\u001b[0m\u001b[0;34m]\u001b[0m\u001b[0;34m]\u001b[0m\u001b[0;34m)\u001b[0m\u001b[0;34m\u001b[0m\u001b[0m\n\u001b[0m\u001b[1;32m     32\u001b[0m             \u001b[0my\u001b[0m \u001b[0;34m=\u001b[0m \u001b[0my_train\u001b[0m\u001b[0;34m[\u001b[0m\u001b[0mindex\u001b[0m\u001b[0;34m[\u001b[0m\u001b[0mf\u001b[0m\u001b[0;34m:\u001b[0m\u001b[0ml\u001b[0m\u001b[0;34m]\u001b[0m\u001b[0;34m]\u001b[0m\u001b[0;34m\u001b[0m\u001b[0m\n\u001b[1;32m     33\u001b[0m \u001b[0;34m\u001b[0m\u001b[0m\n",
      "\u001b[0;32m<ipython-input-67-d40d0623518b>\u001b[0m in \u001b[0;36melastic_transform\u001b[0;34m(image, alpha, sigma, random_state)\u001b[0m\n\u001b[1;32m     19\u001b[0m     \u001b[0mindices\u001b[0m \u001b[0;34m=\u001b[0m \u001b[0mnp\u001b[0m\u001b[0;34m.\u001b[0m\u001b[0mreshape\u001b[0m\u001b[0;34m(\u001b[0m\u001b[0my\u001b[0m\u001b[0;34m+\u001b[0m\u001b[0mdy\u001b[0m\u001b[0;34m,\u001b[0m \u001b[0;34m(\u001b[0m\u001b[0;34m-\u001b[0m\u001b[0;36m1\u001b[0m\u001b[0;34m,\u001b[0m \u001b[0;36m1\u001b[0m\u001b[0;34m)\u001b[0m\u001b[0;34m)\u001b[0m\u001b[0;34m,\u001b[0m \u001b[0mnp\u001b[0m\u001b[0;34m.\u001b[0m\u001b[0mreshape\u001b[0m\u001b[0;34m(\u001b[0m\u001b[0mx\u001b[0m\u001b[0;34m+\u001b[0m\u001b[0mdx\u001b[0m\u001b[0;34m,\u001b[0m \u001b[0;34m(\u001b[0m\u001b[0;34m-\u001b[0m\u001b[0;36m1\u001b[0m\u001b[0;34m,\u001b[0m \u001b[0;36m1\u001b[0m\u001b[0;34m)\u001b[0m\u001b[0;34m)\u001b[0m\u001b[0;34m\u001b[0m\u001b[0m\n\u001b[1;32m     20\u001b[0m \u001b[0;34m\u001b[0m\u001b[0m\n\u001b[0;32m---> 21\u001b[0;31m     \u001b[0;32mreturn\u001b[0m \u001b[0mmap_coordinates\u001b[0m\u001b[0;34m(\u001b[0m\u001b[0mimage\u001b[0m\u001b[0;34m,\u001b[0m \u001b[0mindices\u001b[0m\u001b[0;34m,\u001b[0m \u001b[0morder\u001b[0m\u001b[0;34m=\u001b[0m\u001b[0;36m1\u001b[0m\u001b[0;34m)\u001b[0m\u001b[0;34m.\u001b[0m\u001b[0mreshape\u001b[0m\u001b[0;34m(\u001b[0m\u001b[0mshape\u001b[0m\u001b[0;34m)\u001b[0m\u001b[0;34m\u001b[0m\u001b[0m\n\u001b[0m",
      "\u001b[0;32m~/anaconda3/lib/python3.6/site-packages/scipy/ndimage/interpolation.py\u001b[0m in \u001b[0;36mmap_coordinates\u001b[0;34m(input, coordinates, output, order, mode, cval, prefilter)\u001b[0m\n\u001b[1;32m    341\u001b[0m                                                    shape=output_shape)\n\u001b[1;32m    342\u001b[0m     _nd_image.geometric_transform(filtered, None, coordinates, None, None,\n\u001b[0;32m--> 343\u001b[0;31m                                   output, order, mode, cval, None, None)\n\u001b[0m\u001b[1;32m    344\u001b[0m     \u001b[0;32mreturn\u001b[0m \u001b[0mreturn_value\u001b[0m\u001b[0;34m\u001b[0m\u001b[0m\n\u001b[1;32m    345\u001b[0m \u001b[0;34m\u001b[0m\u001b[0m\n",
      "\u001b[0;31mKeyboardInterrupt\u001b[0m: "
     ]
    }
   ],
   "source": [
    "weights = CreateWeights()\n",
    "\n",
    "alpha = 1e-1\n",
    "epochs = 30\n",
    "nbatchs = 100\n",
    "weights, history = run_sgd(weights, \n",
    "              x_train, d_train, \n",
    "              x_valid, d_valid, \n",
    "              epochs = epochs,\n",
    "              nbatchs=nbatchs, \n",
    "              alpha = alpha, \n",
    "              decay = alpha/(epochs*2), \n",
    "              momentum = 0.9, \n",
    "              l2 = 1e-3, \n",
    "              keep_prop = 0.25)"
   ]
  },
  {
   "cell_type": "code",
   "execution_count": null,
   "metadata": {},
   "outputs": [],
   "source": []
  }
 ],
 "metadata": {
  "kernelspec": {
   "display_name": "Python 3",
   "language": "python",
   "name": "python3"
  },
  "language_info": {
   "codemirror_mode": {
    "name": "ipython",
    "version": 3
   },
   "file_extension": ".py",
   "mimetype": "text/x-python",
   "name": "python",
   "nbconvert_exporter": "python",
   "pygments_lexer": "ipython3",
   "version": "3.6.3"
  }
 },
 "nbformat": 4,
 "nbformat_minor": 2
}
