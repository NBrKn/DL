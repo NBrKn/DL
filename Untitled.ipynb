{
 "cells": [
  {
   "cell_type": "code",
   "execution_count": 1,
   "metadata": {},
   "outputs": [],
   "source": [
    "import matplotlib.pyplot as plt\n",
    "import pandas as pd\n",
    "import numpy as np\n",
    "import time"
   ]
  },
  {
   "cell_type": "code",
   "execution_count": 2,
   "metadata": {},
   "outputs": [],
   "source": [
    "df = pd.read_csv(\"./data/mnist_train.csv\", header=None)"
   ]
  },
  {
   "cell_type": "code",
   "execution_count": 3,
   "metadata": {},
   "outputs": [],
   "source": [
    "training = df.as_matrix()"
   ]
  },
  {
   "cell_type": "code",
   "execution_count": 4,
   "metadata": {},
   "outputs": [],
   "source": [
    "Y_train = training[:, 0].astype('int')"
   ]
  },
  {
   "cell_type": "code",
   "execution_count": 5,
   "metadata": {},
   "outputs": [],
   "source": [
    "X_train = training[:, 1:].astype('float64')"
   ]
  },
  {
   "cell_type": "code",
   "execution_count": 7,
   "metadata": {},
   "outputs": [],
   "source": [
    "df = pd.read_csv(\"./data/mnist_test.csv\", header=None)"
   ]
  },
  {
   "cell_type": "code",
   "execution_count": 8,
   "metadata": {},
   "outputs": [],
   "source": [
    "test = df.as_matrix()"
   ]
  },
  {
   "cell_type": "code",
   "execution_count": 9,
   "metadata": {},
   "outputs": [],
   "source": [
    "Y_test = test[:, 0].astype('int')"
   ]
  },
  {
   "cell_type": "code",
   "execution_count": 10,
   "metadata": {},
   "outputs": [],
   "source": [
    "X_test = test[:, 1:].astype('float64')"
   ]
  },
  {
   "cell_type": "code",
   "execution_count": 12,
   "metadata": {},
   "outputs": [],
   "source": [
    "X_test/=255"
   ]
  },
  {
   "cell_type": "code",
   "execution_count": 13,
   "metadata": {},
   "outputs": [],
   "source": [
    "X_train/=255"
   ]
  },
  {
   "cell_type": "code",
   "execution_count": null,
   "metadata": {},
   "outputs": [],
   "source": [
    "def reLu(x, derivative=False):\n",
    "    if(derivative==False):\n",
    "        return x*(x > 0)\n",
    "    else:\n",
    "        return 1*(x > 0)"
   ]
  },
  {
   "cell_type": "code",
   "execution_count": 16,
   "metadata": {},
   "outputs": [],
   "source": [
    "def softmax(x):\n",
    "    x -= np.max(x)\n",
    "    sm = (np.exp(x).T / np.sum(np.exp(x),axis=1)).T\n",
    "    return sm"
   ]
  },
  {
   "cell_type": "code",
   "execution_count": 17,
   "metadata": {},
   "outputs": [],
   "source": [
    "def initialize_parameters_he(layers_dims):\n",
    "    weights = {}\n",
    "    L = len(layers_dims)\n",
    "    for l in range(1, L):\n",
    "        weights['w' + str(l)] = np.random.randn(layers_dims[l], layers_dims[l - 1]) * np.sqrt(2 / layers_dims[l - 1])\n",
    "        weights['b' + str(l)] = np.zeros((layers_dims[l], 1))\n",
    "    return weights"
   ]
  },
  {
   "cell_type": "code",
   "execution_count": 18,
   "metadata": {},
   "outputs": [],
   "source": [
    "def dropout(x, keep_prop):\n",
    "    mask = np.random.binomial([np.ones_like(x)],(1-keep_prop))[0]  / (1-keep_prop)\n",
    "    return x*mask"
   ]
  },
  {
   "cell_type": "code",
   "execution_count": null,
   "metadata": {},
   "outputs": [],
   "source": [
    "def predict(weights, x, keep_prop=0):\n",
    "    \n",
    "    L = len(weights) // 2\n",
    "    output = []\n",
    "    output[0] = dropout(relu(x@weights['w1']+weights['b1']), keep_prop)\n",
    "    for l in range(1, L-1):\n",
    "        output[l] = dropout(relu(output[l-1]@weights['w' + str(l+1)]+weights['b' + str(l+1)]), keep_prop)\n",
    "    output[L-1] = softmax(output[L-2]@weights['w' + str(L)]+weights['b' + str(L)])\n",
    "    return output"
   ]
  },
  {
   "cell_type": "code",
   "execution_count": null,
   "metadata": {},
   "outputs": [],
   "source": [
    "def accuracy(output, y):\n",
    "    hit = 0\n",
    "    output = np.argmax(output, axis=1)\n",
    "    y = np.argmax(y, axis=1)\n",
    "    for y in zip(output, y):\n",
    "        if(y[0]==y[1]):\n",
    "            hit += 1\n",
    "\n",
    "    p = (hit*100)/output.shape[0]\n",
    "    return p"
   ]
  },
  {
   "cell_type": "code",
   "execution_count": null,
   "metadata": {},
   "outputs": [],
   "source": [
    "def log2(x):\n",
    "    if(x!=0):\n",
    "        return np.log(x)\n",
    "    else:\n",
    "        return -np.inf\n",
    "    \n",
    "def log(y):\n",
    "    return [[log2(nx) for nx in x]for x in y]\n",
    "\n",
    "def cost(Y_predict, Y_right):\n",
    "    \n",
    "    Loss = -np.mean((np.nan_to_num(Y_right*log(Y_predict)) + np.nan_to_num((1-Y_right)*log(1-Y_predict))),keepdims=True)\n",
    "    return Loss"
   ]
  },
  {
   "cell_type": "code",
   "execution_count": null,
   "metadata": {},
   "outputs": [],
   "source": [
    "x_train = X_train"
   ]
  },
  {
   "cell_type": "code",
   "execution_count": null,
   "metadata": {},
   "outputs": [],
   "source": [
    "x_valid = X_test"
   ]
  },
  {
   "cell_type": "code",
   "execution_count": null,
   "metadata": {},
   "outputs": [],
   "source": [
    "d_train = Y_train"
   ]
  },
  {
   "cell_type": "code",
   "execution_count": null,
   "metadata": {},
   "outputs": [],
   "source": [
    "d_valid = Y_test"
   ]
  },
  {
   "cell_type": "code",
   "execution_count": null,
   "metadata": {},
   "outputs": [],
   "source": [
    "def ADAM(weights, x, t, outputs, eta, beta1, beta2, eps, i, nabla, cache=None):        \n",
    "    L = len(weights) // 2\n",
    "    if(cache==None):\n",
    "        for l in range(1, L):\n",
    "            pars['vw' + str(l)] = np.zeros_like(weights['w' +str(l)])\n",
    "            vw1 = np.zeros_like(w1)\n",
    "            mw1 = np.zeros_like(w1)\n",
    "            \n",
    "            vw2 = np.zeros_like(w2)\n",
    "            mw2 = np.zeros_like(w2)\n",
    "            \n",
    "            vw3 = np.zeros_like(w3)\n",
    "            mw3 = np.zeros_like(w3)\n",
    "            \n",
    "            vb1 = np.zeros_like(b1)\n",
    "            mb1 = np.zeros_like(b1)\n",
    "            \n",
    "            vb2 = np.zeros_like(b2)\n",
    "            mb2 = np.zeros_like(b2)\n",
    "            \n",
    "            vb3 = np.zeros_like(b3)\n",
    "            mb3 = np.zeros_like(b3)\n",
    "    else:\n",
    "        vw1,mw1,vw2,mw2,vw3,mw3,vb1,mb1,vb2,mb2,vb3,mb3 = cache\n",
    "    \n",
    "    first, second, y = outputs\n",
    "   \n",
    "    w3_delta = (t-y)/x.shape[0]\n",
    "    \n",
    "    w2_error = w3_delta@w3.T\n",
    "\n",
    "    w2_delta = w2_error * ReLu(second,derivative=True)\n",
    "\n",
    "    w1_error = w2_delta@w2.T\n",
    "    w1_delta = w1_error * ReLu(first,derivative=True)\n",
    "    \n",
    "    \n",
    "    dw3 = (second.T@w3_delta + nabla*w3)\n",
    "    mw3 = beta1*mw3 + (1-beta1)*dw3\n",
    "    mt = (mw3) / (1-beta1**i)\n",
    "    vw3 = beta2*vw3 + (1-beta2)*(dw3**2)\n",
    "    vt = (vw3) / (1-beta2**i)\n",
    "    w3 += eta * mt/(np.sqrt(vt) + eps)\n",
    "    \n",
    "    db3 = (w3_delta.sum(axis=0)+ nabla*b3)\n",
    "    mb3 = beta1*mb3 + (1-beta1)*db3\n",
    "    mt = (mb3) / (1-beta1**i)\n",
    "    vb3 = beta2*vb3 + (1-beta2)*(db3**2)\n",
    "    vt = (vb3) / (1-beta2**i)\n",
    "    b3 += eta * mt/(np.sqrt(vt) + eps)\n",
    "    \n",
    "    dw2 = (first.T@w2_delta + nabla*w2)\n",
    "    mw2 = beta1*mw2 + (1-beta1)*dw2\n",
    "    mt = (mw2) / (1-beta1**i)\n",
    "    vw2 = beta2*vw2 + (1-beta2)*(dw2**2)\n",
    "    vt = (vw2) / (1-beta2**i)\n",
    "    w2 += eta * mt/(np.sqrt(vt) + eps)\n",
    "    \n",
    "    db2 = (w2_delta.sum(axis=0) + nabla*b2)\n",
    "    mb2 = beta1*mb2 + (1-beta1)*db2\n",
    "    mt = (mb2) / (1-beta1**i)\n",
    "    vb2 = beta2*vb2 + (1-beta2)*(db2**2)\n",
    "    vt = (vb2) / (1-beta2**i)\n",
    "    b2 += eta * mt/(np.sqrt(vt) + eps)\n",
    "    \n",
    "    dw1 = (x.T@w1_delta + nabla*w1)\n",
    "    mw1 = beta1*mw1 + (1-beta1)*dw1\n",
    "    mt = (mw1) / (1-beta1**i)\n",
    "    vw1 = beta2*vw1 + (1-beta2)*(dw1**2)\n",
    "    vt = (vw1) / (1-beta2**i)\n",
    "    w1 += eta * mt/(np.sqrt(vt) + eps)\n",
    "    \n",
    "    db1 = (w1_delta.sum(axis=0) + nabla*b1)\n",
    "    mb1 = beta1*mb1 + (1-beta1)*db1\n",
    "    mt = (mb1) / (1-beta1**i)\n",
    "    vb1 = beta2*vb1 + (1-beta2)*(db1**2)\n",
    "    vt = (vb1) / (1-beta2**i)\n",
    "    b1 += eta * mt/(np.sqrt(vt) + eps)\n",
    "    \n",
    "    \n",
    "    weights = [w1,w2,w3,b1,b2,b3]\n",
    "    cache = [vw1,mw1,vw2,mw2,vw3,mw3,vb1,mb1,vb2,mb2,vb3,mb3]\n",
    "    \n",
    "    return weights, cache"
   ]
  }
 ],
 "metadata": {
  "kernelspec": {
   "display_name": "Python 3",
   "language": "python",
   "name": "python3"
  },
  "language_info": {
   "codemirror_mode": {
    "name": "ipython",
    "version": 3
   },
   "file_extension": ".py",
   "mimetype": "text/x-python",
   "name": "python",
   "nbconvert_exporter": "python",
   "pygments_lexer": "ipython3",
   "version": "3.6.4"
  }
 },
 "nbformat": 4,
 "nbformat_minor": 2
}
