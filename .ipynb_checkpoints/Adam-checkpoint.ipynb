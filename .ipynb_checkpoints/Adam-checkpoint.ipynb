{
 "cells": [
  {
   "cell_type": "code",
   "execution_count": 1,
   "metadata": {},
   "outputs": [
    {
     "name": "stdout",
     "output_type": "stream",
     "text": [
      "Shape Train Images: (42000,784)\n",
      "Shape Labels: (42000)\n"
     ]
    }
   ],
   "source": [
    "import matplotlib.pyplot as plt\n",
    "import pandas as pd\n",
    "import numpy as np\n",
    "import time\n",
    "import sys\n",
    "\n",
    "seed = 782\n",
    "np.random.seed(seed)\n",
    "df = pd.read_csv(\"./data/train.csv\")\n",
    "train = df.as_matrix()\n",
    "\n",
    "train_y = train[:,0].astype('int8')\n",
    "train_x = train[:,1:].astype('float64')\n",
    "\n",
    "train = None\n",
    " \n",
    "print(\"Shape Train Images: (%d,%d)\" % train_x.shape)\n",
    "print(\"Shape Labels: (%d)\" % train_y.shape)"
   ]
  },
  {
   "cell_type": "code",
   "execution_count": 2,
   "metadata": {},
   "outputs": [
    {
     "name": "stdout",
     "output_type": "stream",
     "text": [
      "Shape Test Images: (42000,784)\n"
     ]
    }
   ],
   "source": [
    "df = pd.read_csv(\"./data/test.csv\")\n",
    "test = df.as_matrix().astype('float64')\n",
    "print(\"Shape Test Images: (%d,%d)\" % train_x.shape)"
   ]
  },
  {
   "cell_type": "code",
   "execution_count": 3,
   "metadata": {},
   "outputs": [
    {
     "name": "stdout",
     "output_type": "stream",
     "text": [
      "Min: 0.00\n",
      "Max: 1.00\n"
     ]
    }
   ],
   "source": [
    "train_x /=255\n",
    "test /= 255\n",
    "\n",
    "print(\"Min: %.2f\" % np.min(train_x))\n",
    "print(\"Max: %.2f\" % np.max(train_x))\n"
   ]
  },
  {
   "cell_type": "code",
   "execution_count": 4,
   "metadata": {},
   "outputs": [
    {
     "name": "stdout",
     "output_type": "stream",
     "text": [
      "[0 1 0 0 0 0 0 0 0 0]\n"
     ]
    }
   ],
   "source": [
    "train_y = pd.get_dummies(train_y).as_matrix()\n",
    "print(train_y[0])\n"
   ]
  },
  {
   "cell_type": "code",
   "execution_count": 5,
   "metadata": {},
   "outputs": [],
   "source": [
    "def ReLu(x, derivative=False):\n",
    "    if(derivative==False):\n",
    "        return x*(x > 0)\n",
    "    else:\n",
    "        return 1*(x > 0)"
   ]
  },
  {
   "cell_type": "code",
   "execution_count": 6,
   "metadata": {},
   "outputs": [],
   "source": [
    "def Softmax(x):\n",
    "    x -= np.max(x)\n",
    "    sm = (np.exp(x).T / np.sum(np.exp(x),axis=1)).T\n",
    "    return sm"
   ]
  },
  {
   "cell_type": "code",
   "execution_count": 7,
   "metadata": {},
   "outputs": [],
   "source": [
    "def CreateWeights():\n",
    "    ##Initialization of the Weights and the Biases with the random gaussian function with mean zeron, and variance between 1/sqtr(num_inputs_layer)\n",
    "    \n",
    "    ninputs = 784\n",
    "    wl1 = 500 ##Number of neurons in the first layer\n",
    "    wl2 = 300 ##Number of neurons in the second layer\n",
    "    nclass = 10 ##Numer of the class, in this case it is the number of the digits.\n",
    "    \n",
    "    #layer1\n",
    "    w1 = np.random.normal(0, ninputs**-0.5, [ninputs,wl1])\n",
    "    b1 = np.random.normal(0, ninputs**-0.5, [1,wl1])\n",
    "    \n",
    "    #Layer2\n",
    "    w2 = np.random.normal(0, wl1**-0.5, [wl1,wl2])\n",
    "    b2 = np.random.normal(0, wl1**-0.5, [1,wl2])\n",
    "\n",
    "    #Layer3\n",
    "    w3 = np.random.normal(0, wl2**-0.5, [wl2,nclass])\n",
    "    b3 = np.random.normal(0, wl2**-0.5, [1,nclass])\n",
    "    \n",
    "    return [w1,w2,w3,b1,b2,b3]"
   ]
  },
  {
   "cell_type": "code",
   "execution_count": 8,
   "metadata": {},
   "outputs": [],
   "source": [
    "def predict(weights, x, keep_prop=0):\n",
    "    \n",
    "    w1,w2,w3,b1,b2,b3  = weights \n",
    "    \n",
    "    #1-Hidden Layer\n",
    "    first = ReLu(x@w1+b1)\n",
    "    first = Dropout(first, keep_prop)\n",
    "\n",
    "    #2-Hidden Layer\n",
    "    second = ReLu(first@w2+b2)\n",
    "    second = Dropout(second, keep_prop)\n",
    "    \n",
    "    #Output Layer\n",
    "    return [first, second, Softmax(second@w3+b3)]"
   ]
  },
  {
   "cell_type": "code",
   "execution_count": 9,
   "metadata": {},
   "outputs": [],
   "source": [
    "def accuracy(output, y):\n",
    "    hit = 0\n",
    "    output = np.argmax(output, axis=1)\n",
    "    y = np.argmax(y, axis=1)\n",
    "    for y in zip(output, y):\n",
    "        if(y[0]==y[1]):\n",
    "            hit += 1\n",
    "\n",
    "    p = (hit*100)/output.shape[0]\n",
    "    return p"
   ]
  },
  {
   "cell_type": "code",
   "execution_count": 10,
   "metadata": {},
   "outputs": [],
   "source": [
    "def log2(x):\n",
    "    if(x!=0):\n",
    "        return np.log(x)\n",
    "    else:\n",
    "        return -np.inf\n",
    "    \n",
    "def log(y):\n",
    "    return [[log2(nx) for nx in x]for x in y]\n",
    "\n",
    "def cost(Y_predict, Y_right):\n",
    "    \n",
    "    Loss = -np.mean((np.nan_to_num(Y_right*log(Y_predict)) + np.nan_to_num((1-Y_right)*log(1-Y_predict))),keepdims=True)\n",
    "    return Loss"
   ]
  },
  {
   "cell_type": "code",
   "execution_count": 11,
   "metadata": {},
   "outputs": [
    {
     "data": {
      "text/plain": [
       "(37800, 784)"
      ]
     },
     "execution_count": 11,
     "metadata": {},
     "output_type": "execute_result"
    }
   ],
   "source": [
    "porcent_valid = 0.1\n",
    "VALID_SIZE = round(train_x.shape[0]*porcent_valid)\n",
    "\n",
    "index_data = np.arange(train_x.shape[0])\n",
    "np.random.shuffle(index_data)\n",
    "\n",
    "x_train = train_x[index_data[VALID_SIZE:]]\n",
    "x_valid = train_x[index_data[:VALID_SIZE]]\n",
    "\n",
    "\n",
    "d_train = train_y[index_data[VALID_SIZE:]]\n",
    "d_valid = train_y[index_data[:VALID_SIZE]]\n",
    "\n",
    "train_x = None\n",
    "train_y = None\n",
    "\n",
    "x_train.shape"
   ]
  },
  {
   "cell_type": "code",
   "execution_count": 12,
   "metadata": {},
   "outputs": [],
   "source": [
    "def Dropout(x, keep_prop):\n",
    "    mask = np.random.binomial([np.ones_like(x)],(1-keep_prop))[0]  / (1-keep_prop)\n",
    "    return x*mask"
   ]
  },
  {
   "cell_type": "code",
   "execution_count": 13,
   "metadata": {},
   "outputs": [],
   "source": [
    "def ADAM(weights, x, t, outputs, eta, beta1, beta2, eps, i, nabla, cache=None):\n",
    "    \n",
    "    w1,w2,w3,b1,b2,b3  = weights\n",
    "    \n",
    "    \n",
    "    if(cache==None):\n",
    "            vw1 = np.zeros_like(w1)\n",
    "            mw1 = np.zeros_like(w1)\n",
    "            \n",
    "            vw2 = np.zeros_like(w2)\n",
    "            mw2 = np.zeros_like(w2)\n",
    "            \n",
    "            vw3 = np.zeros_like(w3)\n",
    "            mw3 = np.zeros_like(w3)\n",
    "            \n",
    "            vb1 = np.zeros_like(b1)\n",
    "            mb1 = np.zeros_like(b1)\n",
    "            \n",
    "            vb2 = np.zeros_like(b2)\n",
    "            mb2 = np.zeros_like(b2)\n",
    "            \n",
    "            vb3 = np.zeros_like(b3)\n",
    "            mb3 = np.zeros_like(b3)\n",
    "    else:\n",
    "        vw1,mw1,vw2,mw2,vw3,mw3,vb1,mb1,vb2,mb2,vb3,mb3 = cache\n",
    "    \n",
    "    first, second, y = outputs\n",
    "   \n",
    "    w3_delta = (t-y)/x.shape[0]\n",
    "    \n",
    "    w2_error = w3_delta@w3.T\n",
    "\n",
    "    w2_delta = w2_error * ReLu(second,derivative=True)\n",
    "\n",
    "    w1_error = w2_delta@w2.T\n",
    "    w1_delta = w1_error * ReLu(first,derivative=True)\n",
    "    \n",
    "    \n",
    "    dw3 = (second.T@w3_delta + nabla*w3)\n",
    "    mw3 = beta1*mw3 + (1-beta1)*dw3\n",
    "    mt = (mw3) / (1-beta1**i)\n",
    "    vw3 = beta2*vw3 + (1-beta2)*(dw3**2)\n",
    "    vt = (vw3) / (1-beta2**i)\n",
    "    w3 += eta * mt/(np.sqrt(vt) + eps)\n",
    "    \n",
    "    db3 = (w3_delta.sum(axis=0)+ nabla*b3)\n",
    "    mb3 = beta1*mb3 + (1-beta1)*db3\n",
    "    mt = (mb3) / (1-beta1**i)\n",
    "    vb3 = beta2*vb3 + (1-beta2)*(db3**2)\n",
    "    vt = (vb3) / (1-beta2**i)\n",
    "    b3 += eta * mt/(np.sqrt(vt) + eps)\n",
    "    \n",
    "    dw2 = (first.T@w2_delta + nabla*w2)\n",
    "    mw2 = beta1*mw2 + (1-beta1)*dw2\n",
    "    mt = (mw2) / (1-beta1**i)\n",
    "    vw2 = beta2*vw2 + (1-beta2)*(dw2**2)\n",
    "    vt = (vw2) / (1-beta2**i)\n",
    "    w2 += eta * mt/(np.sqrt(vt) + eps)\n",
    "    \n",
    "    db2 = (w2_delta.sum(axis=0) + nabla*b2)\n",
    "    mb2 = beta1*mb2 + (1-beta1)*db2\n",
    "    mt = (mb2) / (1-beta1**i)\n",
    "    vb2 = beta2*vb2 + (1-beta2)*(db2**2)\n",
    "    vt = (vb2) / (1-beta2**i)\n",
    "    b2 += eta * mt/(np.sqrt(vt) + eps)\n",
    "    \n",
    "    dw1 = (x.T@w1_delta + nabla*w1)\n",
    "    mw1 = beta1*mw1 + (1-beta1)*dw1\n",
    "    mt = (mw1) / (1-beta1**i)\n",
    "    vw1 = beta2*vw1 + (1-beta2)*(dw1**2)\n",
    "    vt = (vw1) / (1-beta2**i)\n",
    "    w1 += eta * mt/(np.sqrt(vt) + eps)\n",
    "    \n",
    "    db1 = (w1_delta.sum(axis=0) + nabla*b1)\n",
    "    mb1 = beta1*mb1 + (1-beta1)*db1\n",
    "    mt = (mb1) / (1-beta1**i)\n",
    "    vb1 = beta2*vb1 + (1-beta2)*(db1**2)\n",
    "    vt = (vb1) / (1-beta2**i)\n",
    "    b1 += eta * mt/(np.sqrt(vt) + eps)\n",
    "    \n",
    "    \n",
    "    weights = [w1,w2,w3,b1,b2,b3]\n",
    "    cache = [vw1,mw1,vw2,mw2,vw3,mw3,vb1,mb1,vb2,mb2,vb3,mb3]\n",
    "    \n",
    "    return weights, cache"
   ]
  },
  {
   "cell_type": "code",
   "execution_count": 14,
   "metadata": {},
   "outputs": [],
   "source": [
    "from scipy.ndimage.interpolation import map_coordinates\n",
    "from scipy.ndimage.filters import gaussian_filter\n",
    "\n",
    "def elastic_transform(image, alpha, sigma, random_state=None):\n",
    "    \"\"\"Elastic deformation of images as described in [Simard2003]_.\n",
    "    .. [Simard2003] Simard, Steinkraus and Platt, \"Best Practices for\n",
    "       Convolutional Neural Networks applied to Visual Document Analysis\", in\n",
    "       Proc. of the International Conference on Document Analysis and\n",
    "       Recognition, 2003.\n",
    "    \"\"\"\n",
    "    if random_state is None:\n",
    "        random_state = np.random.RandomState(None)\n",
    "\n",
    "    shape = image.shape\n",
    "    dx = gaussian_filter((random_state.rand(*shape) * 2 - 1), sigma, mode=\"constant\", cval=0) * alpha\n",
    "    dy = gaussian_filter((random_state.rand(*shape) * 2 - 1), sigma, mode=\"constant\", cval=0) * alpha\n",
    "\n",
    "    x, y = np.meshgrid(np.arange(shape[0]), np.arange(shape[1]))\n",
    "    indices = np.reshape(y+dy, (-1, 1)), np.reshape(x+dx, (-1, 1))\n",
    "\n",
    "    return map_coordinates(image, indices, order=1).reshape(shape)"
   ]
  },
  {
   "cell_type": "code",
   "execution_count": null,
   "metadata": {},
   "outputs": [],
   "source": [
    "def run(weights, x_train, y_train, x_valid, y_valid, epochs = 10, nbatchs=25, alpha = 1e-3, decay = 0, beta1=0.9, beta2=0.999, eps=1e-8, l2 = 0.001, keep_prop = 0):\n",
    "    \n",
    "    pross = x_train.shape[0]*0.05\n",
    "    \n",
    "    history = [[],[]]\n",
    "    \n",
    "    index = np.arange(x_train.shape[0])\n",
    "    cache = None\n",
    "    print(\"Train data: %d\" % (x_train.shape[0]))\n",
    "    print(\"Validation data: %d \\n\" % (x_valid.shape[0]))\n",
    "    mtime = 0\n",
    "    inter_adam = 1\n",
    "    \n",
    "    for j in range(epochs):\n",
    "        np.random.shuffle(index)\n",
    "        t = 0\n",
    "        iterations = round(x_train.shape[0]/nbatchs)\n",
    "        prog = \"\"\n",
    "        sacurr = 0\n",
    "        sloss = 0\n",
    "        sys.stdout.write(\"\\nEpochs: %2d \\ %2d \\n\"% (j+1,epochs))\n",
    "        stime = 0\n",
    "        timeIT = time.time()\n",
    "        for i in range(iterations):\n",
    "            timeI = time.time()\n",
    "            f = i*nbatchs\n",
    "            l = f+nbatchs\n",
    "            \n",
    "            if(l>(x_train.shape[0]-1)):\n",
    "                l = x_train.shape[0]\n",
    "                \n",
    "            x = np.array([elastic_transform(xx.reshape(28,28),15,3).reshape(784) for xx in x_train[index[f:l]]])\n",
    "    \n",
    "            y = y_train[index[f:l]]\n",
    "\n",
    "            outputs = predict(weights, x, keep_prop)\n",
    "            \n",
    "            loss = cost(outputs[-1], y)+ l2 * (np.mean(weights[0],keepdims=True)**2+np.mean(weights[1],keepdims=True)**2+np.mean(weights[2],keepdims=True)**2)/3\n",
    "            \n",
    "            \n",
    "            accuracy_t = accuracy(outputs[-1], y)\n",
    "            \n",
    "            sacurr += accuracy_t\n",
    "            sloss += loss\n",
    "            \n",
    "            accuracy_train = sacurr/(i+1)\n",
    "            loss_train = sloss/(i+1)\n",
    "            \n",
    "            weights, cache = ADAM(weights, x, y, outputs, alpha, beta1, beta2, eps, inter_adam, l2, cache)\n",
    "            \n",
    "            t+= x.shape[0]\n",
    "            \n",
    "            qtd = round(t/pross)\n",
    "            prog = \"[\"\n",
    "            for p in range(20):\n",
    "                if(p<qtd-1):\n",
    "                    prog += \"=\"\n",
    "                elif(p==qtd-1):\n",
    "                    prog += \">\"\n",
    "                else:\n",
    "                    prog += \".\"\n",
    "            prog += \"]\"\n",
    "\n",
    "            \n",
    "            stime += time.time()-timeI\n",
    "            mtime = stime/(i+1)\n",
    "            mTimeT = mtime * (iterations-i-1)\n",
    "            \n",
    "            sys.stdout.write(\"\\r%5d/%5d %s ETA: %3d s - loss: %.4f  acc: %.4f\" % (t, x_train.shape[0], prog, mTimeT, loss_train, accuracy_train))\n",
    "            \n",
    "            history[0].append([loss_train, accuracy_train])\n",
    "            inter_adam += 1\n",
    "        mtime = time.time()-timeIT\n",
    "        alpha = alpha - (alpha*decay)\n",
    "        \n",
    "        outputs = predict(weights, x_valid)\n",
    "        \n",
    "        loss_valid = cost(outputs[-1], y_valid)+ l2 * (np.mean(weights[0],keepdims=True)**2+np.mean(weights[1],keepdims=True)**2+np.mean(weights[2],keepdims=True)**2)/3\n",
    "        accuracy_valid = accuracy(outputs[-1], y_valid)\n",
    "        \n",
    "        sys.stdout.write(\"\\r%5d/%5d %s ETA: %3d s loss: %.4f  acc: %.4f - lossValid: %.4f  accValid: %.4f \" % ( t, x_train.shape[0], prog, mtime, loss_train, accuracy_train, loss_valid, accuracy_valid))\n",
    "        history[1].append([loss_valid, accuracy_valid])\n",
    "        \n",
    "    return weights, history"
   ]
  },
  {
   "cell_type": "code",
   "execution_count": null,
   "metadata": {},
   "outputs": [
    {
     "name": "stdout",
     "output_type": "stream",
     "text": [
      "Train data: 37800\n",
      "Validation data: 4200 \n",
      "\n",
      "\n",
      "Epochs:  1 \\ 30 \n",
      "37800/37800 [===================>] ETA:  89 s loss: 0.0854  acc: 83.7275 - lossValid: 0.0248  accValid: 95.5952 \n",
      "Epochs:  2 \\ 30 \n",
      " 3500/37800 [=>..................] ETA:  81 s - loss: 0.0539  acc: 90.4000"
     ]
    }
   ],
   "source": [
    "weights = CreateWeights()\n",
    "\n",
    "alpha = 1e-3\n",
    "epochs = 30\n",
    "nbatchs = 100\n",
    "weights, history = run(weights, \n",
    "              x_train, d_train, \n",
    "              x_valid, d_valid, \n",
    "              epochs = epochs,\n",
    "              nbatchs=nbatchs, \n",
    "              alpha = alpha, \n",
    "              decay = 0.1, \n",
    "              beta1=0.9, \n",
    "              beta2=0.999,\n",
    "              eps=1e-8,\n",
    "              l2 = 1e-7, \n",
    "              keep_prop = 0.25)"
   ]
  },
  {
   "cell_type": "code",
   "execution_count": null,
   "metadata": {},
   "outputs": [],
   "source": []
  },
  {
   "cell_type": "code",
   "execution_count": null,
   "metadata": {},
   "outputs": [],
   "source": []
  },
  {
   "cell_type": "code",
   "execution_count": null,
   "metadata": {},
   "outputs": [],
   "source": []
  },
  {
   "cell_type": "code",
   "execution_count": null,
   "metadata": {},
   "outputs": [],
   "source": []
  },
  {
   "cell_type": "code",
   "execution_count": null,
   "metadata": {},
   "outputs": [],
   "source": []
  },
  {
   "cell_type": "code",
   "execution_count": null,
   "metadata": {},
   "outputs": [],
   "source": []
  },
  {
   "cell_type": "code",
   "execution_count": null,
   "metadata": {},
   "outputs": [],
   "source": []
  },
  {
   "cell_type": "code",
   "execution_count": null,
   "metadata": {},
   "outputs": [],
   "source": []
  },
  {
   "cell_type": "code",
   "execution_count": null,
   "metadata": {},
   "outputs": [],
   "source": []
  },
  {
   "cell_type": "code",
   "execution_count": null,
   "metadata": {},
   "outputs": [],
   "source": []
  }
 ],
 "metadata": {
  "kernelspec": {
   "display_name": "Python 3",
   "language": "python",
   "name": "python3"
  },
  "language_info": {
   "codemirror_mode": {
    "name": "ipython",
    "version": 3
   },
   "file_extension": ".py",
   "mimetype": "text/x-python",
   "name": "python",
   "nbconvert_exporter": "python",
   "pygments_lexer": "ipython3",
   "version": "3.6.4"
  }
 },
 "nbformat": 4,
 "nbformat_minor": 2
}
